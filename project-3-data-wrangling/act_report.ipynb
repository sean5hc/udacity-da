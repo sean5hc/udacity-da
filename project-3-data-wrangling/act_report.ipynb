{
 "cells": [
  {
   "cell_type": "markdown",
   "metadata": {},
   "source": [
    "# Analyzing @dog_rates Tweets\n",
    "\n",
    "A brief analysis was performed on the tweets of the popular twitter account @dog_rates. In particular we looked at what breeds were detected in these tweets by image detection software.\n",
    "\n",
    "<img src='breed_pie_chart.png'>\n",
    "\n",
    "### Insight #1: There Are Many Dog Breeds Out There\n",
    "The first insight is that there are 1390 datapoints in the dataset distributed across 110 distinct dog breeds. According to the FCI [1], there are around 340 recognized dog breeds so the breeds encountered in the dataset seems to cover around a third of that.\n",
    "\n",
    "### Insight #2: The 5 Most Frequest Dog Breeds\n",
    "The second insight is that 5 breeds occur most frequent in the dataset: Golden Retriever, Labrador Retriever, Pembroke, Chihuahua, and Pug. These 5 breeds account for over 25% of the dataset. This seems to be consistent with the fact that these are common and popular breeds among dog-lovers and might reflect the larger distributions of these breeds in the general pet population. \n",
    "\n",
    "### Insight #3: People Love Golden Retrievers\n",
    "The final insight is that the most popular breed in the dataset was the Golden Retriever, which accounts for over 7% of the dataset or 104 datapoints. Golden Retrievers are a very popular breed, and this seems to be echoed by what we see in the data.\n",
    "\n",
    "### Questions to Ponder...\n",
    "One might wonder how the personal preferences of the data creators affect the distributions of the breeds in the dataset. Does the owner of @dog_rates simply find some breeds cuter than others? Are your chances of getting your dog featured in @dog_rates higher if your dog is one of the 5 most frequent breeds in the dataset?\n",
    "\n",
    "### Resources\n",
    " - [1] https://www.policygenius.com/blog/how-many-dog-breeds-are-there/ (Number of Recognized Dog Breeds)"
   ]
  }
 ],
 "metadata": {
  "kernelspec": {
   "display_name": "Python 3",
   "language": "python",
   "name": "python3"
  },
  "language_info": {
   "codemirror_mode": {
    "name": "ipython",
    "version": 3
   },
   "file_extension": ".py",
   "mimetype": "text/x-python",
   "name": "python",
   "nbconvert_exporter": "python",
   "pygments_lexer": "ipython3",
   "version": "3.6.3"
  }
 },
 "nbformat": 4,
 "nbformat_minor": 2
}
